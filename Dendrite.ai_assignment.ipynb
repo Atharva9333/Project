{
 "cells": [
  {
   "cell_type": "code",
   "execution_count": 2,
   "id": "7648cb6b",
   "metadata": {},
   "outputs": [],
   "source": [
    "import pandas as pd\n",
    "from sklearn.model_selection import GridSearchCV\n",
    "from sklearn.compose import ColumnTransformer\n",
    "from sklearn.pipeline import Pipeline\n",
    "from sklearn.impute import SimpleImputer\n",
    "from sklearn.preprocessing import StandardScaler, PolynomialFeatures\n",
    "from sklearn.decomposition import PCA\n",
    "from sklearn.feature_selection import SelectKBest\n",
    "from sklearn.metrics import mean_squared_error, r2_score\n",
    "from sklearn.linear_model import LinearRegression, LogisticRegression\n",
    "from sklearn.ensemble import RandomForestRegressor\n",
    "from sklearn.tree import DecisionTreeRegressor\n",
    "import json"
   ]
  },
  {
   "cell_type": "code",
   "execution_count": 3,
   "id": "5abb16de",
   "metadata": {},
   "outputs": [],
   "source": [
    "csv_data = pd.read_csv(\"C://Users//91814//Desktop//atharva//iris.csv\")"
   ]
  },
  {
   "cell_type": "code",
   "execution_count": 4,
   "id": "5298728f",
   "metadata": {},
   "outputs": [],
   "source": [
    "file_path='C://Users//91814//Desktop//atharva//algoparams_from_ui.json.json'\n",
    "with open(file_path, 'r') as file:\n",
    "    algoparams_from_ui = json.load(file)"
   ]
  },
  {
   "cell_type": "code",
   "execution_count": 5,
   "id": "b65ad1ff",
   "metadata": {},
   "outputs": [
    {
     "data": {
      "text/plain": [
       "{'\\ufeff{\\n    \"session_name\": \"test\",\\n    \"session_description\": \"test\",\\n    \"design_state_data\": {\\n\\n      \"session_info\" : {\\n        \"project_id\": \"1\",\\n        \"experiment_id\": \"kkkk-11\",\\n        \"dataset\":\"iris_modified.csv\",\\n        \"session_name\": \"test\",\\n        \"session_description\": \"test\"\\n        },\\n\\n      \"target\": {\\n        \"prediction_type\": \"Regression\",\\n        \"target\": \"petal_width\",\\n        \"type\":\"regression\",\\n        \"partitioning\": true\\n      },\\n      \"train\": {\\n        \"policy\": \"Split the dataset\",\\n        \"time_variable\": \"sepal_length\",\\n        \"sampling_method\": \"No sampling(whole data)\",\\n        \"split\": \"Randomly\",\\n        \"k_fold\": false,\\n        \"train_ratio\": 0,\\n        \"random_seed\": 0\\n      },\\n      \"metrics\": {\\n        \"optomize_model_hyperparameters_for\": \"AUC\",\\n        \"optimize_threshold_for\": \"F1 Score\",\\n        \"compute_lift_at\": 0,\\n        \"cost_matrix_gain_for_true_prediction_true_result\": 1,\\n        \"cost_matrix_gain_for_true_prediction_false_result\": 0,\\n        \"cost_matrix_gain_for_false_prediction_true_result\": 0,\\n        \"cost_matrix_gain_for_false_prediction_false_result\": 0\\n      },\\n      \"feature_handling\": {\\n        \"sepal_length\": {\\n          \"feature_name\": \"sepal_length\",\\n          \"is_selected\": true,\\n          \"feature_variable_type\": \"numerical\",\\n          \"feature_details\": {\\n            \"numerical_handling\": \"Keep as regular numerical feature\",\\n            \"rescaling\": \"No rescaling\",\\n            \"make_derived_feats\": false,\\n            \"missing_values\": \"Impute\",\\n            \"impute_with\": \"Average of values\",\\n            \"impute_value\": 0\\n          }\\n        },\\n        \"sepal_width\": {\\n          \"feature_name\": \"sepal_width\",\\n          \"is_selected\": true,\\n          \"feature_variable_type\": \"numerical\",\\n          \"feature_details\": {\\n            \"numerical_handling\": \"Keep as regular numerical feature\",\\n            \"rescaling\": \"No rescaling\",\\n            \"make_derived_feats\": false,\\n            \"missing_values\": \"Impute\",\\n            \"impute_with\": \"custom\",\\n            \"impute_value\": -1\\n          }\\n        },\\n        \"petal_length\": {\\n          \"feature_name\": \"petal_length\",\\n          \"is_selected\": true,\\n          \"feature_variable_type\": \"numerical\",\\n          \"feature_details\": {\\n            \"numerical_handling\": \"Keep as regular numerical feature\",\\n            \"rescaling\": \"No rescaling\",\\n            \"make_derived_feats\": false,\\n            \"missing_values\": \"Impute\",\\n            \"impute_with\": \"Average of values\",\\n            \"impute_value\": 0\\n          }\\n        },\\n        \"petal_width\": {\\n          \"feature_name\": \"petal_width\",\\n          \"is_selected\": true,\\n          \"feature_variable_type\": \"numerical\",\\n          \"feature_details\": {\\n            \"numerical_handling\": \"Keep as regular numerical feature\",\\n            \"rescaling\": \"No rescaling\",\\n            \"make_derived_feats\": false,\\n            \"missing_values\": \"Impute\",\\n            \"impute_with\": \"custom\",\\n            \"impute_value\": -2\\n          }\\n        },\\n        \"species\": {\\n          \"feature_name\": \"species\",\\n          \"is_selected\": true,\\n          \"feature_variable_type\": \"text\",\\n          \"feature_details\": {\\n            \"text_handling\": \"Tokenize and hash\",\\n            \"hash_columns\": 0\\n          }\\n        }\\n      },\\n      \"feature_generation\": {\\n        \"linear_interactions\": [[\"petal_length\", \"sepal_width\"]],\\n        \"linear_scalar_type\": \"robust\",\\n        \"polynomial_interactions\": [\\n          \"petal_length/sepal_width\",\\n          \"petal_width/species\"\\n        ],\\n        \"explicit_pairwise_interactions\": [\\n          \"sepal_width/sepal_length\",\\n          \"petal_width/sepal_length\"\\n        ]\\n      },\\n      \"feature_reduction\": {\\n        \"feature_reduction_method\": \"Tree-based\",\\n        \"num_of_features_to_keep\": \"4\",\\n        \"num_of_trees\": \"5\",\\n        \"depth_of_trees\": \"6\"\\n      },\\n      \"hyperparameters\": {\\n        \"stratergy\": \"Grid Search\",\\n        \"shuffle_grid\": true,\\n        \"random_state\": 1,\\n        \"max_iterations\": 2,\\n        \"max_search_time\": 3,\\n        \"parallelism\": 5,\\n        \"cross_validation_stratergy\": \"Time-based K-fold(with overlap)\",\\n        \"num_of_folds\": 6,\\n        \"split_ratio\": 0,\\n        \"stratified\": true\\n      },\\n      \"weighting_stratergy\": {\\n        \"weighting_stratergy_method\": \"Sample weights\",\\n        \"weighting_stratergy_weight_variable\": \"petal_length\"\\n      },\\n      \"probability_calibration\": {\\n        \"probability_calibration_method\": \"Sigmoid - Platt Scaling\"\\n      },\\n      \"algorithms\": {\\n        \"RandomForestClassifier\": {\\n          \"model_name\": \"Random Forest Classifier\",\\n          \"is_selected\": false,\\n          \"min_trees\": 10,\\n          \"max_trees\": 30,\\n          \"feature_sampling_statergy\": \"Default\",\\n          \"min_depth\": 20,\\n          \"max_depth\": 30,\\n          \"min_samples_per_leaf_min_value\": 5,\\n          \"min_samples_per_leaf_max_value\": 50,\\n          \"parallelism\": 0\\n        },\\n        \"RandomForestRegressor\": {\\n          \"model_name\": \"Random Forest Regressor\",\\n          \"is_selected\": true,\\n          \"min_trees\": 10,\\n          \"max_trees\": 20,\\n          \"feature_sampling_statergy\": \"Default\",\\n          \"min_depth\": 20,\\n          \"max_depth\": 25,\\n          \"min_samples_per_leaf_min_value\": 5,\\n          \"min_samples_per_leaf_max_value\": 10,\\n          \"parallelism\": 0\\n        },\\n        \"GBTClassifier\": {\\n          \"model_name\": \"Gradient Boosted Trees\",\\n          \"is_selected\": false,\\n          \"num_of_BoostingStages\": [67, 89],\\n          \"feature_sampling_statergy\": \"Fixed number\",\\n          \"learningRate\": [],\\n          \"use_deviance\": true,\\n          \"use_exponential\": false,\\n          \"fixed_number\": 22,\\n          \"min_subsample\": 1,\\n          \"max_subsample\": 2,\\n          \"min_stepsize\":0.1,\\n          \"max_stepsize\":0.5, \\n          \"min_iter\":20,\\n          \"max_iter\":40,\\n          \"min_depth\":5,\\n          \"max_depth\":7\\n\\n        },\\n        \"GBTRegressor\": {\\n          \"model_name\": \"Gradient Boosted Trees\",\\n          \"is_selected\": false,\\n          \"num_of_BoostingStages\": [67, 89],\\n          \"feature_sampling_statergy\": \"Fixed number\",\\n          \"use_deviance\": true,\\n          \"use_exponential\": false,\\n          \"fixed_number\": 22,\\n          \"min_subsample\": 1,\\n          \"max_subsample\": 2,\\n          \"min_stepsize\":0.1,\\n          \"max_stepsize\":0.5, \\n          \"min_iter\":20,\\n          \"max_iter\":40,\\n          \"min_depth\":5,\\n          \"max_depth\":7\\n        },\\n        \"LinearRegression\": {\\n          \"model_name\": \"LinearRegression\",\\n          \"is_selected\": false,\\n          \"parallelism\": 2,\\n          \"min_iter\":30,\\n          \"max_iter\":50,\\n          \"min_regparam\":0.5,\\n          \"max_regparam\":0.8,\\n          \"min_elasticnet\":0.5,\\n          \"max_elasticnet\":0.8\\n        },\\n        \"LogisticRegression\": {\\n          \"model_name\": \"LogisticRegression\",\\n          \"is_selected\": false,\\n          \"parallelism\": 2,\\n          \"min_iter\":30,\\n          \"max_iter\":50,\\n          \"min_regparam\":0.5,\\n          \"max_regparam\":0.8,\\n          \"min_elasticnet\":0.5,\\n          \"max_elasticnet\":0.8\\n        },\\n        \"RidgeRegression\": {\\n          \"model_name\": \"RidgeRegression\",\\n          \"is_selected\": false,\\n          \"regularization_term\": \"Specify values to test\",\\n          \"min_iter\":30,\\n          \"max_iter\":50,\\n          \"min_regparam\":0.5,\\n          \"max_regparam\":0.8\\n        },\\n        \"LassoRegression\": {\\n          \"model_name\": \"Lasso Regression\",\\n          \"is_selected\": false,\\n          \"regularization_term\": \"Specify values to test\",\\n          \"min_iter\":30,\\n          \"max_iter\":50,\\n          \"min_regparam\":0.5,\\n          \"max_regparam\":0.8\\n        },\\n        \"ElasticNetRegression\": {\\n          \"model_name\": \"Lasso Regression\",\\n          \"is_selected\": false,\\n          \"regularization_term\": \"Specify values to test\",\\n          \"min_iter\":30,\\n          \"max_iter\":50,\\n          \"min_regparam\":0.5,\\n          \"max_regparam\":0.8,\\n          \"min_elasticnet\":0.5,\\n          \"max_elasticnet\":0.8\\n        },\\n        \"xg_boost\": {\\n          \"model_name\": \"XG Boost\",\\n          \"is_selected\": false,\\n          \"use_gradient_boosted_tree\": true,\\n          \"dart\": true,\\n          \"tree_method\": \"\",\\n          \"random_state\": 0,\\n          \"max_num_of_trees\": 0,\\n          \"early_stopping\": true,\\n          \"early_stopping_rounds\": 2,\\n          \"max_depth_of_tree\": [56, 89], \\n          \"learningRate\": [89, 76],\\n          \"l1_regularization\": [77],\\n          \"l2_regularization\": [78],\\n          \"gamma\": [68],\\n          \"min_child_weight\": [67],\\n          \"sub_sample\": [67],\\n          \"col_sample_by_tree\": [67],\\n          \"replace_missing_values\": false,\\n          \"parallelism\": 0\\n        },\\n        \"DecisionTreeRegressor\": {\\n          \"model_name\": \"Decision Tree\",\\n          \"is_selected\": false,\\n          \"min_depth\":4,\\n          \"max_depth\": 7,\\n          \"use_gini\": false,\\n          \"use_entropy\": true,\\n          \"min_samples_per_leaf\": [12, 6],\\n          \"use_best\": true,\\n          \"use_random\": true\\n        },\\n        \"DecisionTreeClassifier\": {\\n          \"model_name\": \"Decision Tree\",\\n          \"is_selected\": false,\\n          \"min_depth\":4,\\n          \"max_depth\": 7,\\n          \"use_gini\": false,\\n          \"use_entropy\": true,\\n          \"min_samples_per_leaf\": [12, 6],\\n          \"use_best\": true,\\n          \"use_random\": true\\n        },\\n        \"SVM\": {\\n          \"model_name\": \"Support Vector Machine\",\\n          \"is_selected\": false,\\n          \"linear_kernel\": true,\\n          \"rep_kernel\": true,\\n          \"polynomial_kernel\": true,\\n          \"sigmoid_kernel\": true,\\n          \"c_value\": [566, 79],\\n          \"auto\": true,\\n          \"scale\": true,\\n          \"custom_gamma_values\": true,\\n          \"tolerance\": 7,\\n          \"max_iterations\": 7\\n        },\\n        \"SGD\": {\\n          \"model_name\": \"Stochastic Gradient Descent\",\\n          \"is_selected\": false,\\n          \"use_logistics\": true,\\n          \"use_modified_hubber_loss\": false,\\n          \"max_iterations\": false,\\n          \"tolerance\": 56,\\n          \"use_l1_regularization\": \"on\",\\n          \"use_l2_regularization\": \"on\",\\n          \"use_elastic_net_regularization\": true,\\n          \"alpha_value\": [79, 56],\\n          \"parallelism\": 1\\n        },\\n        \"KNN\": {\\n          \"model_name\": \"KNN\",\\n          \"is_selected\": false,\\n          \"k_value\": [78],\\n          \"distance_weighting\": true,\\n          \"neighbour_finding_algorithm\": \"Automatic\",\\n          \"random_state\": 0,\\n          \"p_value\": 0\\n        },\\n        \"extra_random_trees\": {\\n          \"model_name\": \"Extra Random Trees\",\\n          \"is_selected\": false,\\n          \"num_of_trees\": [45, 489],\\n          \"feature_sampling_statergy\": \"Square root and Logarithm\",\\n          \"max_depth\": [12, 45],\\n          \"min_samples_per_leaf\": [78, 56],\\n          \"parallelism\": 3\\n        },\\n        \"neural_network\": {\\n          \"model_name\": \"Neural Network\",\\n          \"is_selected\": false,\\n          \"hidden_layer_sizes\": [67, 89],\\n          \"activation\": \"\",\\n          \"alpha_value\": 0,\\n          \"max_iterations\": 0,\\n          \"convergence_tolerance\": 0,\\n          \"early_stopping\": true,\\n          \"solver\": \"ADAM\",\\n          \"shuffle_data\": true,\\n          \"initial_learning_rate\": 0,\\n          \"automatic_batching\": true,\\n          \"beta_1\": 0,\\n          \"beta_2\": 0,\\n          \"epsilon\": 0,\\n          \"power_t\": 0,\\n          \"momentum\": 0,\\n          \"use_nesterov_momentum\": false\\n        }\\n      }\\n    }\\n  }': None}"
      ]
     },
     "execution_count": 5,
     "metadata": {},
     "output_type": "execute_result"
    }
   ],
   "source": [
    "algoparams_from_ui"
   ]
  },
  {
   "cell_type": "code",
   "execution_count": null,
   "id": "e6dbf113",
   "metadata": {},
   "outputs": [],
   "source": [
    "# 1) Read the target and type of regression to be run\n",
    "target = algoparams_from_ui['design_state_data']['target']['target']\n",
    "prediction_type = algoparams_from_ui['design_state_data']['target']['prediction_type']\n",
    "\n",
    "# 2) Read the features and apply missing value imputation\n",
    "feature_handling = algoparams_from_ui['design_state_data']['feature_handling']\n",
    "selected_features = [feature_name for feature_name, details in feature_handling.items() if details['is_selected']]\n",
    "numeric_features = [feature_name for feature_name in selected_features if feature_handling[feature_name]['feature_variable_type'] == 'numerical']\n",
    "categorical_features = [feature_name for feature_name in selected_features if feature_handling[feature_name]['feature_variable_type'] == 'text']\n",
    "\n",
    "# Construct the ColumnTransformer for feature handling\n",
    "transformer_steps = []\n",
    "for feature_name in selected_features:\n",
    "    details = feature_handling[feature_name]['feature_details']\n",
    "    if details['missing_values'] == 'Impute':\n",
    "        imputer = SimpleImputer(strategy='mean' if details['impute_with'] == 'Average of values' else 'constant', fill_value=details['impute_value'])\n",
    "        transformer_steps.append((feature_name + '_impute', imputer, [feature_name]))\n",
    "\n",
    "preprocessor = ColumnTransformer(transformer_steps)"
   ]
  },
  {
   "cell_type": "code",
   "execution_count": null,
   "id": "ae281b54",
   "metadata": {},
   "outputs": [],
   "source": [
    "# 3) Compute feature reduction based on input\n",
    "feature_reduction_method = algoparams_from_ui['design_state_data']['feature_reduction']['feature_reduction_method']\n",
    "num_of_features_to_keep = int(algoparams_from_ui['design_state_data']['feature_reduction']['num_of_features_to_keep'])\n",
    "\n",
    "if feature_reduction_method == 'Correlation with target':\n",
    "    feature_reduction_model = SelectKBest(k=num_of_features_to_keep)\n",
    "elif feature_reduction_method == 'Principal Component Analysis':\n",
    "    feature_reduction_model = PCA(n_components=num_of_features_to_keep)\n",
    "else:\n",
    "    feature_reduction_model = None\n",
    "\n",
    "# 4) Parse the JSON and make the model objects\n",
    "models_to_run = [model_name for model_name, details in algoparams_from_ui['design_state_data']['algorithms'].items() if details['is_selected']]\n",
    "model_objects = {}\n",
    "\n",
    "if prediction_type == 'Regression':\n",
    "    for model_name in models_to_run:\n",
    "        model_details = algoparams_from_ui['design_state_data']['algorithms'][model_name]\n",
    "        if model_name == 'LinearRegression':\n",
    "            model = LinearRegression()\n",
    "            model_objects[model_name] = model\n",
    "        elif model_name == 'LogisticRegression':\n",
    "            model = LogisticRegression(max_iter=model_details['max_iter'], C=(model_details['min_regparam'] + model_details['max_regparam']) / 2)\n",
    "            model_objects[model_name] = model\n",
    "        elif model_name == 'RandomForestRegressor':\n",
    "            model = RandomForestRegressor(n_estimators=(model_details['min_trees'] + model_details['max_trees']) / 2,\n",
    "                                           max_depth=(model_details['min_depth'] + model_details['max_depth']) / 2,\n",
    "                                           min_samples_leaf=(model_details['min_samples_per_leaf_min_value'] + model_details['min_samples_per_leaf_max_value']) / 2)\n",
    "            model_objects[model_name] = model\n",
    "        \n",
    "# 5) Run the fit and predict on each model with hyperparameter tuning\n",
    "results = []\n",
    "\n",
    "for model_name, model in model_objects.items():\n",
    "    pipeline_steps = []\n",
    "    if feature_reduction_model:\n",
    "        pipeline_steps.append(('feature_reduction', feature_reduction_model))\n",
    "    \n",
    "    pipeline_steps.append(('preprocessor', preprocessor))\n",
    "    pipeline_steps.append(('model', model))\n",
    "    \n",
    "    pipeline = Pipeline(pipeline_steps)\n",
    "    \n",
    "    X = csv_data[selected_features]\n",
    "    y = csv_data[target]\n",
    "    \n",
    "    \n",
    "    grid_search = GridSearchCV(pipeline, param_grid, scoring='neg_mean_squared_error', cv=5)\n",
    "    grid_search.fit(X, y)\n",
    "    \n",
    "    best_model = grid_search.best_estimator_\n",
    "    y_pred = best_model.predict(X)\n",
    "    \n",
    "    rmse = mean_squared_error(y, y_pred, squared=False)\n",
    "    r2 = r2_score(y, y_pred)\n",
    "    \n",
    "    results.append({\n",
    "        'model_name': model_name,\n",
    "        'rmse': rmse,\n",
    "        'r2': r2\n",
    "    })\n",
    "\n",
    "# 6) Print results\n",
    "for result in results:\n",
    "    print(f\"Model: {result['model_name']}\")\n",
    "    print(f\"RMSE: {result['rmse']:.4f}\")\n",
    "    print(f\"R2 Score: {result['r2']:.4f}\")\n",
    "     print()"
   ]
  }
 ],
 "metadata": {
  "kernelspec": {
   "display_name": "Python 3 (ipykernel)",
   "language": "python",
   "name": "python3"
  },
  "language_info": {
   "codemirror_mode": {
    "name": "ipython",
    "version": 3
   },
   "file_extension": ".py",
   "mimetype": "text/x-python",
   "name": "python",
   "nbconvert_exporter": "python",
   "pygments_lexer": "ipython3",
   "version": "3.9.13"
  }
 },
 "nbformat": 4,
 "nbformat_minor": 5
}
